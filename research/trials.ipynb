{
 "cells": [
  {
   "cell_type": "code",
   "execution_count": 1,
   "id": "4bd5f210",
   "metadata": {},
   "outputs": [],
   "source": [
    "dict = {\"key\":\"value\", \"key1\":\"value1\"}"
   ]
  },
  {
   "cell_type": "code",
   "execution_count": 2,
   "id": "281b8c14",
   "metadata": {},
   "outputs": [
    {
     "data": {
      "text/plain": [
       "'value'"
      ]
     },
     "execution_count": 2,
     "metadata": {},
     "output_type": "execute_result"
    }
   ],
   "source": [
    "dict[\"key\"]"
   ]
  },
  {
   "cell_type": "code",
   "execution_count": 3,
   "id": "a82b2798",
   "metadata": {},
   "outputs": [
    {
     "ename": "AttributeError",
     "evalue": "'dict' object has no attribute 'key'",
     "output_type": "error",
     "traceback": [
      "\u001b[1;31m---------------------------------------------------------------------------\u001b[0m",
      "\u001b[1;31mAttributeError\u001b[0m                            Traceback (most recent call last)",
      "Cell \u001b[1;32mIn[3], line 1\u001b[0m\n\u001b[1;32m----> 1\u001b[0m \u001b[38;5;28mdict\u001b[39m\u001b[38;5;241m.\u001b[39mkey\n",
      "\u001b[1;31mAttributeError\u001b[0m: 'dict' object has no attribute 'key'"
     ]
    }
   ],
   "source": [
    "dict.key"
   ]
  },
  {
   "cell_type": "code",
   "execution_count": 7,
   "id": "559a1ee3",
   "metadata": {},
   "outputs": [
    {
     "name": "stdout",
     "output_type": "stream",
     "text": [
      "Requirement already satisfied: python-box in c:\\users\\user\\anaconda3\\lib\\site-packages (7.3.2)Note: you may need to restart the kernel to use updated packages.\n",
      "\n"
     ]
    }
   ],
   "source": [
    "%pip install python-box\n"
   ]
  },
  {
   "cell_type": "code",
   "execution_count": 12,
   "id": "c94e3559",
   "metadata": {},
   "outputs": [
    {
     "ename": "ModuleNotFoundError",
     "evalue": "No module named 'box'",
     "output_type": "error",
     "traceback": [
      "\u001b[1;31m---------------------------------------------------------------------------\u001b[0m",
      "\u001b[1;31mModuleNotFoundError\u001b[0m                       Traceback (most recent call last)",
      "Cell \u001b[1;32mIn[12], line 1\u001b[0m\n\u001b[1;32m----> 1\u001b[0m \u001b[38;5;28;01mimport\u001b[39;00m \u001b[38;5;21;01mbox\u001b[39;00m\n\u001b[0;32m      2\u001b[0m \u001b[38;5;28mprint\u001b[39m(box)\n\u001b[0;32m      3\u001b[0m \u001b[38;5;28mprint\u001b[39m(box\u001b[38;5;241m.\u001b[39m\u001b[38;5;18m__file__\u001b[39m)\n",
      "\u001b[1;31mModuleNotFoundError\u001b[0m: No module named 'box'"
     ]
    }
   ],
   "source": [
    "import box\n",
    "print(box)\n",
    "print(box.__file__)\n"
   ]
  },
  {
   "cell_type": "code",
   "execution_count": 22,
   "id": "f5b46110",
   "metadata": {},
   "outputs": [
    {
     "name": "stdout",
     "output_type": "stream",
     "text": [
      "Requirement already satisfied: python-box in c:\\users\\user\\anaconda3\\lib\\site-packages (7.3.2)\n"
     ]
    }
   ],
   "source": [
    "!pip install --no-cache-dir python-box\n"
   ]
  },
  {
   "cell_type": "code",
   "execution_count": 39,
   "id": "567f7d15",
   "metadata": {},
   "outputs": [
    {
     "name": "stdout",
     "output_type": "stream",
     "text": [
      "Name: python-box\n",
      "Version: 7.3.2\n",
      "Summary: Advanced Python dictionaries with dot notation access\n",
      "Home-page: https://github.com/cdgriffith/Box\n",
      "Author: Chris Griffith\n",
      "Author-email: chris@cdgriffith.com\n",
      "License: MIT\n",
      "Location: C:\\Users\\USER\\anaconda3\\Lib\\site-packages\n",
      "Requires: \n",
      "Required-by: \n"
     ]
    }
   ],
   "source": [
    "!pip show python-box\n"
   ]
  },
  {
   "cell_type": "code",
   "execution_count": 40,
   "id": "db68f71f",
   "metadata": {},
   "outputs": [
    {
     "name": "stdout",
     "output_type": "stream",
     "text": [
      "c:\\Users\\USER\\anaconda3\\python.exe\n",
      "['c:\\\\Users\\\\USER\\\\Documents\\\\Wine-Quality-Prediction-End-to-End-Machine-Learning-with-MLflow-Project\\\\research', 'c:\\\\Users\\\\USER\\\\anaconda3\\\\python312.zip', 'c:\\\\Users\\\\USER\\\\anaconda3\\\\DLLs', 'c:\\\\Users\\\\USER\\\\anaconda3\\\\Lib', 'c:\\\\Users\\\\USER\\\\anaconda3']\n"
     ]
    }
   ],
   "source": [
    "import sys\n",
    "print(sys.executable)\n",
    "print(sys.path[:5])  # show first few entries\n"
   ]
  },
  {
   "cell_type": "code",
   "execution_count": 41,
   "id": "4ef0fe3e",
   "metadata": {},
   "outputs": [
    {
     "name": "stdout",
     "output_type": "stream",
     "text": [
      "['c:\\\\Users\\\\USER\\\\anaconda3', 'c:\\\\Users\\\\USER\\\\anaconda3\\\\Lib\\\\site-packages']\n"
     ]
    }
   ],
   "source": [
    "import site\n",
    "print(site.getsitepackages())\n"
   ]
  },
  {
   "cell_type": "code",
   "execution_count": 42,
   "id": "9f6106b7",
   "metadata": {},
   "outputs": [
    {
     "name": "stdout",
     "output_type": "stream",
     "text": [
      "['C:\\\\Users\\\\USER\\\\AppData\\\\Roaming\\\\Python\\\\Python312\\\\site-packages', 'c:\\\\Users\\\\USER\\\\anaconda3\\\\Lib\\\\site-packages', 'c:\\\\Users\\\\USER\\\\anaconda3\\\\Lib\\\\site-packages\\\\win32', 'c:\\\\Users\\\\USER\\\\anaconda3\\\\Lib\\\\site-packages\\\\win32\\\\lib', 'c:\\\\Users\\\\USER\\\\anaconda3\\\\Lib\\\\site-packages\\\\Pythonwin', 'c:\\\\Users\\\\USER\\\\anaconda3\\\\Lib\\\\site-packages\\\\setuptools\\\\_vendor']\n"
     ]
    }
   ],
   "source": [
    "import sys\n",
    "print([p for p in sys.path if \"site-packages\" in p])\n"
   ]
  },
  {
   "cell_type": "code",
   "execution_count": 43,
   "id": "5d424c76",
   "metadata": {},
   "outputs": [
    {
     "name": "stdout",
     "output_type": "stream",
     "text": [
      "['python_box-7.3.2.dist-info']\n"
     ]
    }
   ],
   "source": [
    "import os\n",
    "print([f for f in os.listdir(r\"c:\\Users\\USER\\anaconda3\\Lib\\site-packages\") if \"box\" in f.lower()])\n"
   ]
  },
  {
   "cell_type": "code",
   "execution_count": 45,
   "id": "f2fa440c",
   "metadata": {},
   "outputs": [
    {
     "name": "stdout",
     "output_type": "stream",
     "text": [
      "Found existing installation: python-box 7.3.2\n",
      "Uninstalling python-box-7.3.2:\n",
      "  Successfully uninstalled python-box-7.3.2\n",
      "Collecting python-box\n",
      "  Downloading python_box-7.3.2-cp312-cp312-win_amd64.whl.metadata (8.3 kB)\n",
      "Downloading python_box-7.3.2-cp312-cp312-win_amd64.whl (1.2 MB)\n",
      "   ---------------------------------------- 0.0/1.2 MB ? eta -:--:--\n",
      "   ---------------------------------------- 0.0/1.2 MB ? eta -:--:--\n",
      "   ---------------------------------------- 0.0/1.2 MB ? eta -:--:--\n",
      "   ---------------------------------------- 0.0/1.2 MB ? eta -:--:--\n",
      "   ---------------------------------------- 0.0/1.2 MB ? eta -:--:--\n",
      "   ---------------------------------------- 0.0/1.2 MB ? eta -:--:--\n",
      "   ---------------------------------------- 0.0/1.2 MB ? eta -:--:--\n",
      "   ---------------------------------------- 0.0/1.2 MB ? eta -:--:--\n",
      "   -------- ------------------------------- 0.3/1.2 MB ? eta -:--:--\n",
      "   -------- ------------------------------- 0.3/1.2 MB ? eta -:--:--\n",
      "   -------- ------------------------------- 0.3/1.2 MB ? eta -:--:--\n",
      "   -------- ------------------------------- 0.3/1.2 MB ? eta -:--:--\n",
      "   -------- ------------------------------- 0.3/1.2 MB ? eta -:--:--\n",
      "   ----------------- ---------------------- 0.5/1.2 MB 207.2 kB/s eta 0:00:04\n",
      "   ----------------- ---------------------- 0.5/1.2 MB 207.2 kB/s eta 0:00:04\n",
      "   ----------------- ---------------------- 0.5/1.2 MB 207.2 kB/s eta 0:00:04\n",
      "   ----------------- ---------------------- 0.5/1.2 MB 207.2 kB/s eta 0:00:04\n",
      "   ----------------- ---------------------- 0.5/1.2 MB 207.2 kB/s eta 0:00:04\n",
      "   ----------------- ---------------------- 0.5/1.2 MB 207.2 kB/s eta 0:00:04\n",
      "   ----------------- ---------------------- 0.5/1.2 MB 207.2 kB/s eta 0:00:04\n",
      "   ----------------- ---------------------- 0.5/1.2 MB 207.2 kB/s eta 0:00:04\n",
      "   ----------------- ---------------------- 0.5/1.2 MB 207.2 kB/s eta 0:00:04\n",
      "   ----------------- ---------------------- 0.5/1.2 MB 207.2 kB/s eta 0:00:04\n",
      "   ----------------- ---------------------- 0.5/1.2 MB 207.2 kB/s eta 0:00:04\n",
      "   ----------------- ---------------------- 0.5/1.2 MB 207.2 kB/s eta 0:00:04\n",
      "   ----------------- ---------------------- 0.5/1.2 MB 207.2 kB/s eta 0:00:04\n",
      "   ----------------- ---------------------- 0.5/1.2 MB 207.2 kB/s eta 0:00:04\n",
      "   ----------------- ---------------------- 0.5/1.2 MB 207.2 kB/s eta 0:00:04\n",
      "   ----------------- ---------------------- 0.5/1.2 MB 207.2 kB/s eta 0:00:04\n",
      "   ----------------- ---------------------- 0.5/1.2 MB 207.2 kB/s eta 0:00:04\n",
      "   ----------------- ---------------------- 0.5/1.2 MB 207.2 kB/s eta 0:00:04\n",
      "   ----------------- ---------------------- 0.5/1.2 MB 207.2 kB/s eta 0:00:04\n",
      "   ------------------------- -------------- 0.8/1.2 MB 99.9 kB/s eta 0:00:05\n",
      "   ------------------------- -------------- 0.8/1.2 MB 99.9 kB/s eta 0:00:05\n",
      "   ------------------------- -------------- 0.8/1.2 MB 99.9 kB/s eta 0:00:05\n",
      "   ------------------------- -------------- 0.8/1.2 MB 99.9 kB/s eta 0:00:05\n",
      "   ------------------------- -------------- 0.8/1.2 MB 99.9 kB/s eta 0:00:05\n",
      "   ------------------------- -------------- 0.8/1.2 MB 99.9 kB/s eta 0:00:05\n",
      "   ------------------------- -------------- 0.8/1.2 MB 99.9 kB/s eta 0:00:05\n",
      "   ---------------------------------- ----- 1.0/1.2 MB 115.7 kB/s eta 0:00:02\n",
      "   ---------------------------------- ----- 1.0/1.2 MB 115.7 kB/s eta 0:00:02\n",
      "   ---------------------------------- ----- 1.0/1.2 MB 115.7 kB/s eta 0:00:02\n",
      "   ---------------------------------- ----- 1.0/1.2 MB 115.7 kB/s eta 0:00:02\n",
      "   ---------------------------------------- 1.2/1.2 MB 124.7 kB/s eta 0:00:00\n",
      "Installing collected packages: python-box\n",
      "Successfully installed python-box-7.3.2\n"
     ]
    }
   ],
   "source": [
    "!{sys.executable} -m pip uninstall -y python-box\n",
    "!{sys.executable} -m pip install --no-cache-dir python-box\n"
   ]
  },
  {
   "cell_type": "code",
   "execution_count": 46,
   "id": "154d7715",
   "metadata": {},
   "outputs": [],
   "source": [
    "from box import ConfigBox, Box"
   ]
  },
  {
   "cell_type": "code",
   "execution_count": 52,
   "id": "5aa5de75",
   "metadata": {},
   "outputs": [
    {
     "name": "stdout",
     "output_type": "stream",
     "text": [
      "Mubarak\n",
      "24\n",
      "['AI', 'ML', 'Civil Eng']\n"
     ]
    }
   ],
   "source": [
    "# Normal dictionary\n",
    "config_dict = {\"name\": \"Mubarak\", \"age\": 24, \"skills\": [\"AI\", \"ML\", \"Civil Eng\"]}\n",
    "\n",
    "# Convert to ConfigBox\n",
    "config = ConfigBox(config_dict)\n",
    "\n",
    "print(config.name)   # Mubarak\n",
    "print(config.age)    # 24\n",
    "print(config.skills) # ['AI', 'ML', 'Civil Eng']\n"
   ]
  },
  {
   "cell_type": "code",
   "execution_count": 57,
   "id": "3e7a1a90",
   "metadata": {},
   "outputs": [
    {
     "data": {
      "text/plain": [
       "'Mubarak'"
      ]
     },
     "execution_count": 57,
     "metadata": {},
     "output_type": "execute_result"
    }
   ],
   "source": [
    "config.name"
   ]
  },
  {
   "cell_type": "code",
   "execution_count": 54,
   "id": "acee8ce3",
   "metadata": {},
   "outputs": [],
   "source": [
    "dict2 = ConfigBox({\"key\":\"value\", \"key1\":\"value1\"})"
   ]
  },
  {
   "cell_type": "code",
   "execution_count": 55,
   "id": "012fe6f5",
   "metadata": {},
   "outputs": [
    {
     "data": {
      "text/plain": [
       "ConfigBox({'key': 'value', 'key1': 'value1'})"
      ]
     },
     "execution_count": 55,
     "metadata": {},
     "output_type": "execute_result"
    }
   ],
   "source": [
    "dict2"
   ]
  },
  {
   "cell_type": "code",
   "execution_count": 56,
   "id": "c19846e3",
   "metadata": {},
   "outputs": [
    {
     "data": {
      "text/plain": [
       "'value'"
      ]
     },
     "execution_count": 56,
     "metadata": {},
     "output_type": "execute_result"
    }
   ],
   "source": [
    "dict2.key"
   ]
  },
  {
   "cell_type": "code",
   "execution_count": 58,
   "id": "6baae745",
   "metadata": {},
   "outputs": [],
   "source": [
    "def get_product(x:int, y:int) -> int:\n",
    "    return x*y"
   ]
  },
  {
   "cell_type": "code",
   "execution_count": 59,
   "id": "d30acfba",
   "metadata": {},
   "outputs": [
    {
     "data": {
      "text/plain": [
       "30"
      ]
     },
     "execution_count": 59,
     "metadata": {},
     "output_type": "execute_result"
    }
   ],
   "source": [
    "get_product(x=5, y=6)"
   ]
  },
  {
   "cell_type": "code",
   "execution_count": 60,
   "id": "8ee10140",
   "metadata": {},
   "outputs": [
    {
     "data": {
      "text/plain": [
       "'99'"
      ]
     },
     "execution_count": 60,
     "metadata": {},
     "output_type": "execute_result"
    }
   ],
   "source": [
    "get_product(x=2, y=\"9\")"
   ]
  },
  {
   "cell_type": "code",
   "execution_count": 37,
   "id": "9c3c7349",
   "metadata": {},
   "outputs": [
    {
     "name": "stdout",
     "output_type": "stream",
     "text": [
      "Collecting ensure\n",
      "  Downloading ensure-1.0.4-py3-none-any.whl.metadata (10 kB)\n",
      "Requirement already satisfied: six>=1.11.0 in c:\\users\\user\\anaconda3\\lib\\site-packages (from ensure) (1.16.0)\n",
      "Downloading ensure-1.0.4-py3-none-any.whl (15 kB)\n",
      "Installing collected packages: ensure\n",
      "Successfully installed ensure-1.0.4\n",
      "Note: you may need to restart the kernel to use updated packages.\n"
     ]
    }
   ],
   "source": [
    "pip install ensure\n"
   ]
  },
  {
   "cell_type": "code",
   "execution_count": 61,
   "id": "cc5a5bc5",
   "metadata": {},
   "outputs": [],
   "source": [
    "from ensure import ensure_annotations"
   ]
  },
  {
   "cell_type": "code",
   "execution_count": 62,
   "id": "7eb0b8f6",
   "metadata": {},
   "outputs": [],
   "source": [
    "@ensure_annotations\n",
    "def get_product(x:int, y:int) -> int:\n",
    "    return x*y"
   ]
  },
  {
   "cell_type": "code",
   "execution_count": 63,
   "id": "ef41ce08",
   "metadata": {},
   "outputs": [
    {
     "data": {
      "text/plain": [
       "1530"
      ]
     },
     "execution_count": 63,
     "metadata": {},
     "output_type": "execute_result"
    }
   ],
   "source": [
    "get_product(x=34, y=45)"
   ]
  },
  {
   "cell_type": "code",
   "execution_count": 64,
   "id": "330d3536",
   "metadata": {},
   "outputs": [
    {
     "ename": "EnsureError",
     "evalue": "Argument y of type <class 'str'> to <function get_product at 0x00000206F26DBA60> does not match annotation type <class 'int'>",
     "output_type": "error",
     "traceback": [
      "\u001b[1;31m---------------------------------------------------------------------------\u001b[0m",
      "\u001b[1;31mEnsureError\u001b[0m                               Traceback (most recent call last)",
      "Cell \u001b[1;32mIn[64], line 1\u001b[0m\n\u001b[1;32m----> 1\u001b[0m get_product(x\u001b[38;5;241m=\u001b[39m\u001b[38;5;241m34\u001b[39m, y\u001b[38;5;241m=\u001b[39m\u001b[38;5;124m'\u001b[39m\u001b[38;5;124m45\u001b[39m\u001b[38;5;124m'\u001b[39m)\n",
      "File \u001b[1;32mc:\\Users\\USER\\anaconda3\\Lib\\site-packages\\ensure\\main.py:870\u001b[0m, in \u001b[0;36mWrappedFunctionReturn.__call__\u001b[1;34m(self, *args, **kwargs)\u001b[0m\n\u001b[0;32m    868\u001b[0m     \u001b[38;5;28;01mif\u001b[39;00m \u001b[38;5;129;01mnot\u001b[39;00m \u001b[38;5;28misinstance\u001b[39m(value, templ):\n\u001b[0;32m    869\u001b[0m         msg \u001b[38;5;241m=\u001b[39m \u001b[38;5;124m\"\u001b[39m\u001b[38;5;124mArgument \u001b[39m\u001b[38;5;132;01m{arg}\u001b[39;00m\u001b[38;5;124m of type \u001b[39m\u001b[38;5;132;01m{valt}\u001b[39;00m\u001b[38;5;124m to \u001b[39m\u001b[38;5;132;01m{f}\u001b[39;00m\u001b[38;5;124m \u001b[39m\u001b[38;5;124m\"\u001b[39m \u001b[38;5;124m\"\u001b[39m\u001b[38;5;124mdoes not match annotation type \u001b[39m\u001b[38;5;132;01m{t}\u001b[39;00m\u001b[38;5;124m\"\u001b[39m\n\u001b[1;32m--> 870\u001b[0m         \u001b[38;5;28;01mraise\u001b[39;00m EnsureError(msg\u001b[38;5;241m.\u001b[39mformat(arg\u001b[38;5;241m=\u001b[39marg, f\u001b[38;5;241m=\u001b[39m\u001b[38;5;28mself\u001b[39m\u001b[38;5;241m.\u001b[39mf, t\u001b[38;5;241m=\u001b[39mtempl, valt\u001b[38;5;241m=\u001b[39m\u001b[38;5;28mtype\u001b[39m(value)))\n\u001b[0;32m    872\u001b[0m return_val \u001b[38;5;241m=\u001b[39m \u001b[38;5;28mself\u001b[39m\u001b[38;5;241m.\u001b[39mf(\u001b[38;5;241m*\u001b[39margs, \u001b[38;5;241m*\u001b[39m\u001b[38;5;241m*\u001b[39mkwargs)\n\u001b[0;32m    873\u001b[0m \u001b[38;5;28;01mif\u001b[39;00m \u001b[38;5;129;01mnot\u001b[39;00m \u001b[38;5;28misinstance\u001b[39m(return_val, \u001b[38;5;28mself\u001b[39m\u001b[38;5;241m.\u001b[39mreturn_templ):\n",
      "\u001b[1;31mEnsureError\u001b[0m: Argument y of type <class 'str'> to <function get_product at 0x00000206F26DBA60> does not match annotation type <class 'int'>"
     ]
    }
   ],
   "source": [
    "get_product(x=34, y='45')"
   ]
  }
 ],
 "metadata": {
  "kernelspec": {
   "display_name": "base",
   "language": "python",
   "name": "python3"
  },
  "language_info": {
   "codemirror_mode": {
    "name": "ipython",
    "version": 3
   },
   "file_extension": ".py",
   "mimetype": "text/x-python",
   "name": "python",
   "nbconvert_exporter": "python",
   "pygments_lexer": "ipython3",
   "version": "3.12.7"
  }
 },
 "nbformat": 4,
 "nbformat_minor": 5
}
